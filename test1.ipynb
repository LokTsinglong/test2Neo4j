{
 "cells": [
  {
   "cell_type": "code",
   "execution_count": 2,
   "id": "e0e2d00a",
   "metadata": {},
   "outputs": [],
   "source": [
    "from py2neo import Node, Relationship\n",
    "from py2neo import Graph, Subgraph"
   ]
  },
  {
   "cell_type": "code",
   "execution_count": 3,
   "id": "583f6b95",
   "metadata": {},
   "outputs": [],
   "source": [
    "test_graph = Graph(\"bolt://localhost:7687\", auth=(\"neo4j\", \"123456\"))\n",
    "test_graph.delete_all()"
   ]
  },
  {
   "cell_type": "code",
   "execution_count": 4,
   "id": "1c929021",
   "metadata": {},
   "outputs": [],
   "source": [
    "node_1=Node('英雄',name='张无忌')\n",
    "node_2 = Node('英雄',name = '杨逍',武力值='100')\n",
    "node_3 = Node('派别',name = '明教')\n",
    "# 定义节点的过程"
   ]
  },
  {
   "cell_type": "code",
   "execution_count": 5,
   "id": "7fba76f1",
   "metadata": {},
   "outputs": [],
   "source": [
    "# 将节点写入图数据库中\n",
    "test_graph.create(node_1)\n",
    "test_graph.create(node_2)   \n",
    "test_graph.create(node_3)"
   ]
  },
  {
   "cell_type": "code",
   "execution_count": 6,
   "id": "c864de93",
   "metadata": {},
   "outputs": [
    {
     "name": "stdout",
     "output_type": "stream",
     "text": [
      "(_1:英雄 {name: '\\u5f20\\u65e0\\u5fcc'})\n"
     ]
    }
   ],
   "source": [
    "print(node_1)"
   ]
  },
  {
   "cell_type": "code",
   "execution_count": 8,
   "id": "5279910d",
   "metadata": {},
   "outputs": [],
   "source": [
    "node_1_to_node_2=Relationship(node_1,'教主',node_2)\n",
    "node_3_to_node_1 = Relationship(node_1,'统领',node_3)\n",
    "node_2_to_node_3 = Relationship(node_2,'师出',node_3)\n",
    "test_graph.create(node_1_to_node_2)\n",
    "test_graph.create(node_3_to_node_1)\n",
    "test_graph.create(node_2_to_node_3)"
   ]
  },
  {
   "cell_type": "code",
   "execution_count": 9,
   "id": "38181e2e",
   "metadata": {},
   "outputs": [
    {
     "name": "stdout",
     "output_type": "stream",
     "text": [
      "(阿大)-[:小弟 {}]->(阿二)<-[:小弟 {}]-(阿三)\n"
     ]
    }
   ],
   "source": [
    "from py2neo import Path\n",
    "node_4,node_5,node_6 = Node(name='阿大'),Node(name='阿二'),Node(name='阿三')\n",
    "path_1 = Path(node_4,'小弟',node_5,Relationship(node_6, \"小弟\", node_5),node_6)\n",
    "test_graph.create(path_1)\n",
    "print(path_1)"
   ]
  },
  {
   "cell_type": "code",
   "execution_count": 12,
   "id": "297ad38f",
   "metadata": {},
   "outputs": [],
   "source": [
    "# 建立子图\n",
    "node7 = Node('英雄', name='张翠山')\n",
    "node8 = Node('英雄', name='赵敏')\n",
    "node9 = Node('英雄', name='狮王')\n",
    "relationship1= Relationship(node_1, '生父', node7)\n",
    "relationship2= Relationship(node_1, '生母', node8)\n",
    "relationship3= Relationship(node_1, '义父', node9)\n",
    "subgraph_1=Subgraph(nodes=[node7,node8,node9],relationships=[relationship1,relationship2,relationship3])\n",
    "test_graph.create(subgraph_1)\n"
   ]
  },
  {
   "cell_type": "code",
   "execution_count": 13,
   "id": "073d816b",
   "metadata": {},
   "outputs": [
    {
     "name": "stderr",
     "output_type": "stream",
     "text": [
      "C:\\Users\\loktsinglong\\AppData\\Local\\Temp\\ipykernel_19064\\496489916.py:9: DeprecationWarning: The transaction.commit() method is deprecated, use graph.commit(transaction) instead\n",
      "  transaction.commit()\n"
     ]
    }
   ],
   "source": [
    "transaction=test_graph.begin()\n",
    "node_10 = Node('武当',name = '张三丰')\n",
    "transaction.create(node_10)\n",
    "# 创建两个关系：张无忌→（师公）→张三丰   张翠山→（妻子）→殷素素\n",
    "relationship_10 = Relationship(node_1,'师公',node_10)\n",
    "relationship_11 = Relationship(node7,'妻子',node8)\n",
    "transaction.create(relationship_10)\n",
    "transaction.create(relationship_11)\n",
    "transaction.commit()\n"
   ]
  },
  {
   "cell_type": "code",
   "execution_count": 14,
   "id": "71b18c62",
   "metadata": {},
   "outputs": [],
   "source": [
    "node_x=Node('英雄',name=\"韦一笑\")\n",
    "test_graph.create(node_x) \n",
    "      "
   ]
  },
  {
   "cell_type": "code",
   "execution_count": 15,
   "id": "d3d6d387",
   "metadata": {},
   "outputs": [
    {
     "data": {
      "text/html": [
       "(No data)"
      ],
      "text/plain": [
       "(No data)"
      ]
     },
     "execution_count": 15,
     "metadata": {},
     "output_type": "execute_result"
    }
   ],
   "source": [
    "# 删除一个节点\n",
    "test_graph.run(\"MATCH(n:英雄{name:\\'韦一笑\\'}) DELETE n\")    \n",
    "# 删除一个节点和与之相连的关系\n",
    "test_graph.run(\"MATCH(n:英雄{name:\\'韦一笑\\'})  DETACH DELETE n\") \n",
    "# 删除某一类型的\n",
    "test_graph.run('match ()-[r:喜欢]->() delete r;')\n",
    "# 删除子图\n",
    "# 删除子图\n",
    "# delete(self, subgraph)"
   ]
  },
  {
   "cell_type": "code",
   "execution_count": 16,
   "id": "fad72d07",
   "metadata": {},
   "outputs": [],
   "source": [
    "# 将狮王的武力值修改为100\n",
    "node9[\"武力值\"]=100\n",
    "test_graph.push(node9)"
   ]
  },
  {
   "cell_type": "code",
   "execution_count": 17,
   "id": "8f9d36e9",
   "metadata": {},
   "outputs": [
    {
     "name": "stderr",
     "output_type": "stream",
     "text": [
      "C:\\Users\\loktsinglong\\AppData\\Local\\Temp\\ipykernel_19064\\2240733444.py:27: DeprecationWarning: The transaction.commit() method is deprecated, use graph.commit(transaction) instead\n",
      "  transaction_2.commit()\n"
     ]
    }
   ],
   "source": [
    "transaction_2=test_graph.begin()\n",
    "\n",
    "node_100 = Node('巾帼',name ='赵敏')\n",
    "re_100 = Relationship(node_1,'Love',node_100)\n",
    "\n",
    "node_101 = Node('巾帼',name ='周芷若')\n",
    "re_101 = Relationship(node_1,'knows',node_101)\n",
    "re_101_ = Relationship(node_101,'hate',node_100)\n",
    "\n",
    "\n",
    "node_102 = Node('巾帼',name ='小昭')\n",
    "re_102 = Relationship(node_1,'konws',node_102)\n",
    "\n",
    "node_103 = Node('巾帼',name ='蛛儿')\n",
    "re_103 = Relationship(node_103,'Love',node_1)\n",
    "\n",
    "transaction_2.create(node_100)\n",
    "transaction_2.create(re_100)\n",
    "transaction_2.create(node_101)\n",
    "transaction_2.create(re_101)\n",
    "transaction_2.create(re_101_)\n",
    "transaction_2.create(node_102)\n",
    "transaction_2.create(re_102)\n",
    "transaction_2.create(node_103)\n",
    "transaction_2.create(re_103)\n",
    "\n",
    "transaction_2.commit()"
   ]
  },
  {
   "cell_type": "code",
   "execution_count": 18,
   "id": "ba261f08",
   "metadata": {},
   "outputs": [
    {
     "name": "stdout",
     "output_type": "stream",
     "text": [
      "所有英雄类型:\n",
      " <class 'list'>\n",
      "单个英雄：\n",
      " (_1:英雄 {name: '\\u5f20\\u65e0\\u5fcc'})\n",
      "label查询第0个为：(_1:英雄 {name: '\\u5f20\\u65e0\\u5fcc'})\n",
      "label查询第1个为：(_22:英雄 {name: '\\u6768\\u900d', 武力值: '100'})\n",
      "label查询第2个为：(_44:英雄 {name: '\\u5f20\\u7fe0\\u5c71'})\n",
      "label查询第3个为：(_45:英雄 {name: '\\u8d75\\u654f'})\n",
      "label查询第4个为：(_46:英雄 {name: '\\u72ee\\u738b', 武力值: 100})\n",
      "name查询结果：\n",
      " [Node('英雄', name='张无忌')]\n",
      "id查询结果：\n",
      " (_1:英雄 {name: '\\u5f20\\u65e0\\u5fcc'})\n"
     ]
    }
   ],
   "source": [
    "from py2neo import NodeMatcher\n",
    "# 定义查询\n",
    "nodes=NodeMatcher(test_graph)\n",
    "\n",
    "# 当点查询，按照label和name查询\n",
    "# # 按照label查询所有英雄\n",
    "node_hero=nodes.match('英雄').all()\n",
    "print(\"所有英雄类型:\\n\",type(node_hero))\n",
    "# # 按照name查询\n",
    "node_single=nodes.match('英雄',name='张无忌').first()\n",
    "print(\"单个英雄：\\n\",node_single)\n",
    "# #在查询结果中循环取值\n",
    "i=0\n",
    "for node in node_hero:\n",
    "    print('label查询第{}个为：{}'.format(i,node))\n",
    "    i=i+1\n",
    "# #按照name查询，查询所有all()\n",
    "node_all=nodes.match('英雄',name='张无忌').all()\n",
    "print(\"name查询结果：\\n\",node_all)\n",
    "\n",
    "# get（）方法按照id查询节点\n",
    "node_id=nodes.get(1)\n",
    "print(\"id查询结果：\\n\",node_id)"
   ]
  },
  {
   "cell_type": "code",
   "execution_count": 23,
   "id": "649fa0bc",
   "metadata": {},
   "outputs": [
    {
     "name": "stdout",
     "output_type": "stream",
     "text": [
      "=============== 遍历所有节点 ===============\n",
      "(_1:英雄 {name: '\\u5f20\\u65e0\\u5fcc'})\n",
      "(_22:英雄 {name: '\\u6768\\u900d', 武力值: '100'})\n",
      "(_44:英雄 {name: '\\u5f20\\u7fe0\\u5c71'})\n",
      "(_45:英雄 {name: '\\u8d75\\u654f'})\n",
      "(_46:英雄 {name: '\\u72ee\\u738b', 武力值: 100})\n",
      "=============== 查询结果计数 ===============\n",
      "5\n",
      "========== 按照武力值排序查询结果 ==========\n",
      "(_22:英雄 {name: '\\u6768\\u900d', 武力值: '100'})\n",
      "(_46:英雄 {name: '\\u72ee\\u738b', 武力值: 100})\n",
      "(_1:英雄 {name: '\\u5f20\\u65e0\\u5fcc'})\n",
      "(_44:英雄 {name: '\\u5f20\\u7fe0\\u5c71'})\n",
      "(_45:英雄 {name: '\\u8d75\\u654f'})\n"
     ]
    }
   ],
   "source": [
    "from py2neo import NodeMatch\n",
    "nodess=NodeMatch(test_graph,frozenset({'英雄'}))\n",
    "print('='*15,'遍历所有节点','='*15)\n",
    "for node in iter(nodess):\n",
    "    print(node)\n",
    "print('='*15,'查询结果计数','='*15)\n",
    "print(nodess.count())\n",
    "print('='*10,'按照武力值排序查询结果','='*10)\n",
    "wu=nodess.order_by('_.武力值')\n",
    "for i in iter(wu):\n",
    "    print(i)\n",
    "\n"
   ]
  },
  {
   "cell_type": "code",
   "execution_count": 24,
   "id": "c74703d4",
   "metadata": {},
   "outputs": [
    {
     "name": "stdout",
     "output_type": "stream",
     "text": [
      "========== hate关系查询结果 ==========\n",
      "(周芷若)-[:hate {}]->(赵敏)\n",
      "========== hate关系查询结果 ==========\n",
      "(周芷若)-[:情敌 {}]->(小昭)\n",
      "(小昭)-[:情敌 {}]->(蛛儿)\n"
     ]
    }
   ],
   "source": [
    "from py2neo import RelationshipMatcher\n",
    "# 查询某条关系\n",
    "relationship=RelationshipMatcher(test_graph)\n",
    "print('='*10,'hate关系查询结果','='*10)\n",
    "x=relationship.match(nodes=None,r_type='hate')\n",
    "for x_ in x:\n",
    "    print(x_)\n",
    "# 增加俩关系\n",
    "re1_1 = Relationship(node_101,'情敌',node_102)\n",
    "re1_2 = Relationship(node_102,'情敌',node_103)\n",
    "test_graph.create(re1_1)\n",
    "test_graph.create(re1_2)\n",
    "# 情敌查询结果\n",
    "print('='*10,'hate关系查询结果','='*10)\n",
    "x=relationship.match(nodes=None,r_type='情敌')\n",
    "for x_ in x:\n",
    "    print(x_)"
   ]
  }
 ],
 "metadata": {
  "kernelspec": {
   "display_name": "venvFlask",
   "language": "python",
   "name": "python3"
  },
  "language_info": {
   "codemirror_mode": {
    "name": "ipython",
    "version": 3
   },
   "file_extension": ".py",
   "mimetype": "text/x-python",
   "name": "python",
   "nbconvert_exporter": "python",
   "pygments_lexer": "ipython3",
   "version": "3.8.10"
  }
 },
 "nbformat": 4,
 "nbformat_minor": 5
}
